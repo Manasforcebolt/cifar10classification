{
 "cells": [
  {
   "cell_type": "code",
   "execution_count": 2,
   "metadata": {},
   "outputs": [],
   "source": [
    "# import the package\n",
    "import tensorflow as tf\n",
    "from tensorflow.keras.datasets import cifar10 \n",
    "import numpy as np "
   ]
  },
  {
   "cell_type": "code",
   "execution_count": 3,
   "metadata": {},
   "outputs": [
    {
     "name": "stdout",
     "output_type": "stream",
     "text": [
      "Downloading data from https://www.cs.toronto.edu/~kriz/cifar-10-python.tar.gz\n",
      "170498071/170498071 [==============================] - 366s 2us/step\n"
     ]
    }
   ],
   "source": [
    "(x_train, y_train), (x_test,y_test) = cifar10.load_data()"
   ]
  },
  {
   "cell_type": "code",
   "execution_count": 4,
   "metadata": {},
   "outputs": [
    {
     "name": "stdout",
     "output_type": "stream",
     "text": [
      "(50000, 32, 32, 3)\n",
      "(50000, 1)\n",
      "(10000, 32, 32, 3)\n",
      "(10000, 1)\n"
     ]
    }
   ],
   "source": [
    "print(x_train.shape)\n",
    "print(y_train.shape)\n",
    "print(x_test.shape)\n",
    "print(y_test.shape)"
   ]
  },
  {
   "cell_type": "code",
   "execution_count": 5,
   "metadata": {},
   "outputs": [],
   "source": [
    "LABELS = ['Airplane', 'Automobile', 'Bird', 'Cat', 'Deer', 'Dog', 'Frog', 'Horse', 'Ship', 'Truck']"
   ]
  },
  {
   "cell_type": "code",
   "execution_count": 6,
   "metadata": {},
   "outputs": [
    {
     "ename": "TypeError",
     "evalue": "only integer scalar arrays can be converted to a scalar index",
     "output_type": "error",
     "traceback": [
      "\u001b[0;31m---------------------------------------------------------------------------\u001b[0m",
      "\u001b[0;31mTypeError\u001b[0m                                 Traceback (most recent call last)",
      "\u001b[1;32m/Users/fb/Desktop/webapp/Cifar10classification/code.ipynb Cell 5\u001b[0m line \u001b[0;36m8\n\u001b[1;32m      <a href='vscode-notebook-cell:/Users/fb/Desktop/webapp/Cifar10classification/code.ipynb#W4sZmlsZQ%3D%3D?line=4'>5</a>\u001b[0m     plt\u001b[39m.\u001b[39mimshow(X[index])\n\u001b[1;32m      <a href='vscode-notebook-cell:/Users/fb/Desktop/webapp/Cifar10classification/code.ipynb#W4sZmlsZQ%3D%3D?line=5'>6</a>\u001b[0m     plt\u001b[39m.\u001b[39mxlabel(LABELS[y[index]])\n\u001b[0;32m----> <a href='vscode-notebook-cell:/Users/fb/Desktop/webapp/Cifar10classification/code.ipynb#W4sZmlsZQ%3D%3D?line=7'>8</a>\u001b[0m plot_sample(x_train , y_train , \u001b[39m53\u001b[39;49m)\n",
      "\u001b[1;32m/Users/fb/Desktop/webapp/Cifar10classification/code.ipynb Cell 5\u001b[0m line \u001b[0;36m6\n\u001b[1;32m      <a href='vscode-notebook-cell:/Users/fb/Desktop/webapp/Cifar10classification/code.ipynb#W4sZmlsZQ%3D%3D?line=3'>4</a>\u001b[0m plt\u001b[39m.\u001b[39mfigure(figsize\u001b[39m=\u001b[39m(\u001b[39m15\u001b[39m , \u001b[39m2\u001b[39m))\n\u001b[1;32m      <a href='vscode-notebook-cell:/Users/fb/Desktop/webapp/Cifar10classification/code.ipynb#W4sZmlsZQ%3D%3D?line=4'>5</a>\u001b[0m plt\u001b[39m.\u001b[39mimshow(X[index])\n\u001b[0;32m----> <a href='vscode-notebook-cell:/Users/fb/Desktop/webapp/Cifar10classification/code.ipynb#W4sZmlsZQ%3D%3D?line=5'>6</a>\u001b[0m plt\u001b[39m.\u001b[39mxlabel(LABELS[y[index]])\n",
      "\u001b[0;31mTypeError\u001b[0m: only integer scalar arrays can be converted to a scalar index"
     ]
    },
    {
     "data": {
      "image/png": "[encoded data removed]",
      "text/plain": [
       "<Figure size 1500x200 with 1 Axes>"
      ]
     },
     "metadata": {},
     "output_type": "display_data"
    }
   ],
   "source": [
    "import matplotlib.pyplot as plt \n",
    "\n",
    "def plot_sample(X , y , index):\n",
    "    plt.figure(figsize=(15 , 2))\n",
    "    plt.imshow(X[index])\n",
    "    plt.xlabel(LABELS[y[index]])\n",
    "\n",
    "plot_sample(x_train , y_train , 53)"
   ]
  },
  {
   "cell_type": "code",
   "execution_count": 7,
   "metadata": {},
   "outputs": [],
   "source": [
    "x_train = x_train / 255.0\n",
    "x_test = x_test / 255.0\n"
   ]
  },
  {
   "cell_type": "code",
   "execution_count": 8,
   "metadata": {},
   "outputs": [],
   "source": [
    "# Build a model\n",
    "from tensorflow.keras.layers import Conv2D , MaxPooling2D , Flatten , Dense , Dropout\n",
    "from tensorflow.keras.models import Sequential\n",
    "\n",
    "model = Sequential([\n",
    "    Conv2D(32 , (3,3) , activation=\"relu\" ,input_shape = (32,32,3)),\n",
    "    MaxPooling2D(pool_size= (2,2)),\n",
    "\n",
    "    Conv2D(64 , (3,3) , activation=\"relu\"),\n",
    "    MaxPooling2D(pool_size= (2,2)),\n",
    "\n",
    "    Conv2D(64 , (3,3) , activation=\"relu\"),\n",
    "    MaxPooling2D(pool_size= (2,2)),\n",
    "\n",
    "    Flatten(),\n",
    "    Dense(64 , activation=\"relu\"),\n",
    "    Dense(10  ,activation=\"softmax\")\n",
    "])"
   ]
  },
  {
   "cell_type": "code",
   "execution_count": 9,
   "metadata": {},
   "outputs": [
    {
     "name": "stdout",
     "output_type": "stream",
     "text": [
      "Model: \"sequential\"\n",
      "_________________________________________________________________\n",
      " Layer (type)                Output Shape              Param #   \n",
      "=================================================================\n",
      " conv2d (Conv2D)             (None, 30, 30, 32)        896       \n",
      "                                                                 \n",
      " max_pooling2d (MaxPooling2  (None, 15, 15, 32)        0         \n",
      " D)                                                              \n",
      "                                                                 \n",
      " conv2d_1 (Conv2D)           (None, 13, 13, 64)        18496     \n",
      "                                                                 \n",
      " max_pooling2d_1 (MaxPoolin  (None, 6, 6, 64)          0         \n",
      " g2D)                                                            \n",
      "                                                                 \n",
      " conv2d_2 (Conv2D)           (None, 4, 4, 64)          36928     \n",
      "                                                                 \n",
      " max_pooling2d_2 (MaxPoolin  (None, 2, 2, 64)          0         \n",
      " g2D)                                                            \n",
      "                                                                 \n",
      " flatten (Flatten)           (None, 256)               0         \n",
      "                                                                 \n",
      " dense (Dense)               (None, 64)                16448     \n",
      "                                                                 \n",
      " dense_1 (Dense)             (None, 10)                650       \n",
      "                                                                 \n",
      "=================================================================\n",
      "Total params: 73418 (286.79 KB)\n",
      "Trainable params: 73418 (286.79 KB)\n",
      "Non-trainable params: 0 (0.00 Byte)\n",
      "_________________________________________________________________\n"
     ]
    }
   ],
   "source": [
    "model.summary()"
   ]
  },
  {
   "cell_type": "code",
   "execution_count": 10,
   "metadata": {},
   "outputs": [
    {
     "name": "stdout",
     "output_type": "stream",
     "text": [
      "Epoch 1/10\n",
      "1563/1563 [==============================] - 27s 17ms/step - loss: 1.5691 - accuracy: 0.4259 - val_loss: 1.3559 - val_accuracy: 0.5092\n",
      "Epoch 2/10\n",
      "1563/1563 [==============================] - 29s 19ms/step - loss: 1.2285 - accuracy: 0.5623 - val_loss: 1.2207 - val_accuracy: 0.5555\n",
      "Epoch 3/10\n",
      "1563/1563 [==============================] - 29s 18ms/step - loss: 1.0801 - accuracy: 0.6178 - val_loss: 1.0819 - val_accuracy: 0.6196\n",
      "Epoch 4/10\n",
      "1563/1563 [==============================] - 29s 18ms/step - loss: 0.9812 - accuracy: 0.6554 - val_loss: 0.9866 - val_accuracy: 0.6518\n",
      "Epoch 5/10\n",
      "1563/1563 [==============================] - 29s 19ms/step - loss: 0.9050 - accuracy: 0.6839 - val_loss: 1.0146 - val_accuracy: 0.6548\n",
      "Epoch 6/10\n",
      "1563/1563 [==============================] - 28s 18ms/step - loss: 0.8483 - accuracy: 0.7044 - val_loss: 0.9336 - val_accuracy: 0.6801\n",
      "Epoch 7/10\n",
      "1563/1563 [==============================] - 29s 19ms/step - loss: 0.7979 - accuracy: 0.7223 - val_loss: 0.8971 - val_accuracy: 0.6912\n",
      "Epoch 8/10\n",
      "1563/1563 [==============================] - 29s 18ms/step - loss: 0.7556 - accuracy: 0.7357 - val_loss: 0.9090 - val_accuracy: 0.6869\n",
      "Epoch 9/10\n",
      "1563/1563 [==============================] - 30s 19ms/step - loss: 0.7194 - accuracy: 0.7480 - val_loss: 0.8753 - val_accuracy: 0.7016\n",
      "Epoch 10/10\n",
      "1563/1563 [==============================] - 31s 20ms/step - loss: 0.6854 - accuracy: 0.7587 - val_loss: 0.8965 - val_accuracy: 0.6952\n"
     ]
    },
    {
     "data": {
      "text/plain": [
       "<keras.src.callbacks.History at 0x147c0ed90>"
      ]
     },
     "execution_count": 10,
     "metadata": {},
     "output_type": "execute_result"
    }
   ],
   "source": [
    "model.compile(optimizer=\"adam\", \n",
    "              loss=\"sparse_categorical_crossentropy\", \n",
    "              metrics=[\"accuracy\"])\n",
    "\n",
    "model.fit(x_train, \n",
    "          y_train, \n",
    "          epochs=10, \n",
    "          validation_data = (x_test, y_test))"
   ]
  },
  {
   "cell_type": "code",
   "execution_count": 11,
   "metadata": {},
   "outputs": [
    {
     "name": "stdout",
     "output_type": "stream",
     "text": [
      "313/313 [==============================] - 1s 3ms/step - loss: 0.8965 - accuracy: 0.6952\n"
     ]
    },
    {
     "data": {
      "text/plain": [
       "[0.8964640498161316, 0.6952000260353088]"
      ]
     },
     "execution_count": 11,
     "metadata": {},
     "output_type": "execute_result"
    }
   ],
   "source": [
    "model.evaluate(x_test , y_test)"
   ]
  },
  {
   "cell_type": "code",
   "execution_count": 12,
   "metadata": {},
   "outputs": [
    {
     "name": "stdout",
     "output_type": "stream",
     "text": [
      "313/313 [==============================] - 1s 3ms/step\n"
     ]
    },
    {
     "data": {
      "text/plain": [
       "array([[3.95427877e-03, 1.35924271e-03, 1.94253419e-02, 7.86317587e-01,\n",
       "        4.83288337e-03, 9.23564658e-02, 6.87178550e-03, 8.67348909e-03,\n",
       "        7.13500530e-02, 4.85873735e-03],\n",
       "       [2.08539050e-03, 3.22466075e-01, 1.20268226e-06, 7.99625377e-06,\n",
       "        2.05528090e-06, 1.18070950e-07, 6.94360551e-07, 1.06451154e-07,\n",
       "        6.74057901e-01, 1.37848326e-03],\n",
       "       [5.53367240e-03, 5.69454506e-02, 2.19371897e-04, 3.61254835e-03,\n",
       "        1.15850518e-04, 4.70978179e-04, 1.15538761e-03, 2.48451888e-05,\n",
       "        9.21699822e-01, 1.02219833e-02],\n",
       "       [3.44388068e-01, 3.98040980e-01, 2.17940449e-03, 4.32596309e-03,\n",
       "        1.45425396e-02, 9.25851637e-05, 4.50559513e-04, 7.25805410e-04,\n",
       "        2.21326917e-01, 1.39271738e-02]], dtype=float32)"
      ]
     },
     "execution_count": 12,
     "metadata": {},
     "output_type": "execute_result"
    }
   ],
   "source": [
    "y_pred = model.predict(x_test)\n",
    "y_pred[:4]"
   ]
  },
  {
   "cell_type": "code",
   "execution_count": 13,
   "metadata": {},
   "outputs": [
    {
     "name": "stderr",
     "output_type": "stream",
     "text": [
      "/usr/local/Caskroom/miniforge/base/envs/streamlit-env/lib/python3.9/site-packages/keras/src/engine/training.py:3103: UserWarning: You are saving your model as an HDF5 file via `model.save()`. This file format is considered legacy. We recommend using instead the native Keras format, e.g. `model.save('my_model.keras')`.\n",
      "  saving_api.save_model(\n"
     ]
    }
   ],
   "source": [
    "model.save(\"cifar10model.h5\")"
   ]
  },
  {
   "cell_type": "code",
   "execution_count": null,
   "metadata": {},
   "outputs": [],
   "source": []
  }
 ],
 "metadata": {
  "kernelspec": {
   "display_name": "Python 3",
   "language": "python",
   "name": "python3"
  },
  "language_info": {
   "codemirror_mode": {
    "name": "ipython",
    "version": 3
   },
   "file_extension": ".py",
   "mimetype": "text/x-python",
   "name": "python",
   "nbconvert_exporter": "python",
   "pygments_lexer": "ipython3",
   "version": "3.9.18"
  }
 },
 "nbformat": 4,
 "nbformat_minor": 2
}
